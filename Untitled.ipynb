{
 "cells": [
  {
   "cell_type": "code",
   "execution_count": 6,
   "id": "1c5c75f9",
   "metadata": {},
   "outputs": [],
   "source": [
    "def twice(f):\n",
    "    def result(x):\n",
    "        return f(f(x))\n",
    "    return result\n",
    "\n",
    "def f(i):\n",
    "    return i + 3\n",
    "\n",
    "g1 = twice(f)"
   ]
  },
  {
   "cell_type": "code",
   "execution_count": 7,
   "id": "3cf9ee48",
   "metadata": {},
   "outputs": [
    {
     "data": {
      "text/plain": [
       "13"
      ]
     },
     "execution_count": 7,
     "metadata": {},
     "output_type": "execute_result"
    }
   ],
   "source": [
    "g1(7)"
   ]
  },
  {
   "cell_type": "code",
   "execution_count": 8,
   "id": "f8a30f08",
   "metadata": {},
   "outputs": [
    {
     "data": {
      "text/plain": [
       "8"
      ]
     },
     "execution_count": 8,
     "metadata": {},
     "output_type": "execute_result"
    }
   ],
   "source": [
    "g1(2)"
   ]
  },
  {
   "cell_type": "code",
   "execution_count": 9,
   "id": "3193bb58",
   "metadata": {},
   "outputs": [],
   "source": [
    "@twice\n",
    "def g2(i):\n",
    "    return i+3"
   ]
  },
  {
   "cell_type": "code",
   "execution_count": 10,
   "id": "f0ce7650",
   "metadata": {},
   "outputs": [
    {
     "data": {
      "text/plain": [
       "13"
      ]
     },
     "execution_count": 10,
     "metadata": {},
     "output_type": "execute_result"
    }
   ],
   "source": [
    "g2(7)"
   ]
  },
  {
   "cell_type": "code",
   "execution_count": 11,
   "id": "1707356b",
   "metadata": {},
   "outputs": [
    {
     "data": {
      "text/plain": [
       "8"
      ]
     },
     "execution_count": 11,
     "metadata": {},
     "output_type": "execute_result"
    }
   ],
   "source": [
    "g2(2)"
   ]
  },
  {
   "cell_type": "code",
   "execution_count": null,
   "id": "2a0228a4",
   "metadata": {},
   "outputs": [],
   "source": []
  }
 ],
 "metadata": {
  "kernelspec": {
   "display_name": "Python 3 (ipykernel)",
   "language": "python",
   "name": "python3"
  },
  "language_info": {
   "codemirror_mode": {
    "name": "ipython",
    "version": 3
   },
   "file_extension": ".py",
   "mimetype": "text/x-python",
   "name": "python",
   "nbconvert_exporter": "python",
   "pygments_lexer": "ipython3",
   "version": "3.9.13"
  }
 },
 "nbformat": 4,
 "nbformat_minor": 5
}
